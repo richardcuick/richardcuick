{
 "cells": [
  {
   "cell_type": "markdown",
   "id": "d9cd7018-012d-484e-91bf-a88bf17f5d3e",
   "metadata": {},
   "source": [
    "# Pyton 第一课"
   ]
  },
  {
   "cell_type": "markdown",
   "id": "243f4c1b-cefc-4fdb-afff-6ce621ff120f",
   "metadata": {},
   "source": [
    "1. 了解Python的前世今生\n",
    "2. 学习输出语句\n",
    "3. 学习数学运算符\n",
    "* 首选我们了解什么是编程语言，并列举多个编程语言样例\n",
    "* 然后讲解Python语言的历史由来，以及Python的优点有哪些\n",
    "* 接下来我们介绍代码的存放要求以及mu编译器的使用规则\n",
    "* 然后我们学习Python的基本数据类型以及print内置函数的用法\n",
    "* 并编写了多道练习题，同学们表现的很好课上代码都能实现。\n",
    "* 最后我们学习Python常见的数学运算符，并一一列举如何使用。"
   ]
  },
  {
   "cell_type": "raw",
   "id": "c3e6416c-caa1-4f5e-a02a-fb34a1589cc5",
   "metadata": {},
   "source": [
    "数据类型\n",
    "int 数据类型 1 2 3 4 0 13\n",
    "float 浮点类型 3.14 6.1 0.123456\n",
    "bool 布尔类型 True False\n",
    "str 字符串 \"123\" '某某' 'abcd'"
   ]
  },
  {
   "cell_type": "markdown",
   "id": "de1b4df6-9a39-4af3-9c62-af8c9c3af80d",
   "metadata": {
    "tags": []
   },
   "source": [
    "## 数据类型"
   ]
  },
  {
   "cell_type": "code",
   "execution_count": 26,
   "id": "6155f547-487c-493f-9f7c-3cfeca0dbd99",
   "metadata": {
    "tags": []
   },
   "outputs": [
    {
     "name": "stdout",
     "output_type": "stream",
     "text": [
      "你好世界\n"
     ]
    }
   ],
   "source": [
    "print(\"你好世界\")"
   ]
  },
  {
   "cell_type": "code",
   "execution_count": 2,
   "id": "4ce115d4-c4b6-414d-b5a9-fb9aebe3891f",
   "metadata": {
    "tags": []
   },
   "outputs": [
    {
     "name": "stdout",
     "output_type": "stream",
     "text": [
      "123\n"
     ]
    }
   ],
   "source": [
    "print(123)"
   ]
  },
  {
   "cell_type": "code",
   "execution_count": 3,
   "id": "55840f1f-8f93-4ad7-bfd0-f023ee86c5b6",
   "metadata": {
    "tags": []
   },
   "outputs": [
    {
     "name": "stdout",
     "output_type": "stream",
     "text": [
      "3.14\n"
     ]
    }
   ],
   "source": [
    "print(3.14)"
   ]
  },
  {
   "cell_type": "code",
   "execution_count": 4,
   "id": "3e2f8ac7-93ec-488b-a6f4-ad4444a03523",
   "metadata": {
    "tags": []
   },
   "outputs": [
    {
     "name": "stdout",
     "output_type": "stream",
     "text": [
      "True False\n"
     ]
    }
   ],
   "source": [
    "print(True,False)"
   ]
  },
  {
   "cell_type": "code",
   "execution_count": 5,
   "id": "41ed2bd7-33e7-45ee-84ec-daeb42298547",
   "metadata": {
    "tags": []
   },
   "outputs": [
    {
     "name": "stdout",
     "output_type": "stream",
     "text": [
      "123 456\n"
     ]
    }
   ],
   "source": [
    "print(123,456)"
   ]
  },
  {
   "cell_type": "markdown",
   "id": "8d1f34ec-477d-421c-b6f4-d1ead61b0006",
   "metadata": {},
   "source": [
    "## 算数运算符"
   ]
  },
  {
   "cell_type": "code",
   "execution_count": 7,
   "id": "52d39f76-2e39-48c7-a789-14aa68933b9c",
   "metadata": {
    "tags": []
   },
   "outputs": [
    {
     "name": "stdout",
     "output_type": "stream",
     "text": [
      "2\n"
     ]
    }
   ],
   "source": [
    "print(1+1)"
   ]
  },
  {
   "cell_type": "code",
   "execution_count": 8,
   "id": "fc93adb0-bceb-4b20-b42b-346d4a83ed0e",
   "metadata": {
    "tags": []
   },
   "outputs": [
    {
     "name": "stdout",
     "output_type": "stream",
     "text": [
      "1\n"
     ]
    }
   ],
   "source": [
    "print(2-1)"
   ]
  },
  {
   "cell_type": "code",
   "execution_count": 9,
   "id": "db89931c-05ff-44aa-b11f-34f80565aacd",
   "metadata": {
    "tags": []
   },
   "outputs": [
    {
     "name": "stdout",
     "output_type": "stream",
     "text": [
      "4\n"
     ]
    }
   ],
   "source": [
    "print(2*2)"
   ]
  },
  {
   "cell_type": "code",
   "execution_count": 10,
   "id": "1f91449e-f374-4205-94e1-e41815cbbb34",
   "metadata": {
    "tags": []
   },
   "outputs": [
    {
     "name": "stdout",
     "output_type": "stream",
     "text": [
      "1.5\n"
     ]
    }
   ],
   "source": [
    "# 保留小数\n",
    "print(6/4)"
   ]
  },
  {
   "cell_type": "code",
   "execution_count": 11,
   "id": "ad3ce7b4-3dd5-4246-b5de-fb652ec625f9",
   "metadata": {
    "tags": []
   },
   "outputs": [
    {
     "name": "stdout",
     "output_type": "stream",
     "text": [
      "1\n"
     ]
    }
   ],
   "source": [
    "# 取整\n",
    "print(6//4)"
   ]
  },
  {
   "cell_type": "code",
   "execution_count": 12,
   "id": "778da795-c16d-4039-9e9d-28df95f072c9",
   "metadata": {
    "tags": []
   },
   "outputs": [
    {
     "name": "stdout",
     "output_type": "stream",
     "text": [
      "0\n"
     ]
    }
   ],
   "source": [
    "# 取余运算\n",
    "print(9%3)"
   ]
  },
  {
   "cell_type": "code",
   "execution_count": 13,
   "id": "084584bd-ae79-411f-a538-e0d73e239ac5",
   "metadata": {
    "tags": []
   },
   "outputs": [
    {
     "name": "stdout",
     "output_type": "stream",
     "text": [
      "8\n"
     ]
    }
   ],
   "source": [
    "# 次方运算\n",
    "print(2**3) # 2 * 2 * 2"
   ]
  },
  {
   "cell_type": "code",
   "execution_count": 15,
   "id": "835ba20d-6f81-4b78-a34e-e405dc94f9bd",
   "metadata": {
    "tags": []
   },
   "outputs": [
    {
     "name": "stdout",
     "output_type": "stream",
     "text": [
      "    *\n",
      "   ***\n",
      "  *****\n",
      " *******\n",
      "*********\n"
     ]
    }
   ],
   "source": [
    "print(\"    *\")\n",
    "print(\"   ***\")\n",
    "print(\"  *****\")\n",
    "print(\" *******\")\n",
    "print(\"*********\")"
   ]
  },
  {
   "cell_type": "code",
   "execution_count": 35,
   "id": "67d33dfd-0cad-4f1b-b678-2ab209b53849",
   "metadata": {
    "tags": []
   },
   "outputs": [
    {
     "name": "stdout",
     "output_type": "stream",
     "text": [
      "     *\n",
      "    ***\n",
      "   *****\n",
      "  *******\n",
      " *********\n"
     ]
    }
   ],
   "source": [
    "row=5\n",
    "for n in range (row):\n",
    "    print(\" \"*(row-n-1),\"*\"*(2*n+1))"
   ]
  },
  {
   "cell_type": "markdown",
   "id": "91ad3aa4-6ce0-44f0-b1fb-9a887a8a73cc",
   "metadata": {},
   "source": []
  }
 ],
 "metadata": {
  "kernelspec": {
   "display_name": "Python 3 (ipykernel)",
   "language": "python",
   "name": "python3"
  },
  "language_info": {
   "codemirror_mode": {
    "name": "ipython",
    "version": 3
   },
   "file_extension": ".py",
   "mimetype": "text/x-python",
   "name": "python",
   "nbconvert_exporter": "python",
   "pygments_lexer": "ipython3",
   "version": "3.11.4"
  }
 },
 "nbformat": 4,
 "nbformat_minor": 5
}
